{
  "nbformat": 4,
  "nbformat_minor": 0,
  "metadata": {
    "colab": {
      "provenance": []
    },
    "kernelspec": {
      "name": "python3",
      "display_name": "Python 3"
    },
    "language_info": {
      "name": "python"
    }
  },
  "cells": [
    {
      "cell_type": "code",
      "execution_count": 205,
      "metadata": {
        "id": "r0lJN7CQhJc5"
      },
      "outputs": [],
      "source": [
        "import yfinance as yf\n",
        "import numpy as np"
      ]
    },
    {
      "cell_type": "code",
      "source": [
        "df = yf.download('AAPL', start = '2010-01-01', end = '2023-12-31')"
      ],
      "metadata": {
        "colab": {
          "base_uri": "https://localhost:8080/"
        },
        "id": "QFjOvet6hRsF",
        "outputId": "2d7e1f5c-779f-44d8-b4aa-0f3ad469b62f"
      },
      "execution_count": 206,
      "outputs": [
        {
          "output_type": "stream",
          "name": "stderr",
          "text": [
            "\r[*********************100%%**********************]  1 of 1 completed\n"
          ]
        }
      ]
    },
    {
      "cell_type": "code",
      "source": [
        "df['returns'] = np.log(df.Close.pct_change()+1)"
      ],
      "metadata": {
        "id": "6AkEoNVChcRz"
      },
      "execution_count": 207,
      "outputs": []
    },
    {
      "cell_type": "code",
      "source": [
        "df.returns"
      ],
      "metadata": {
        "colab": {
          "base_uri": "https://localhost:8080/"
        },
        "id": "wqCcKUyPNIi4",
        "outputId": "2c22c597-2f47-491c-a4d3-388e1d64c86f"
      },
      "execution_count": 208,
      "outputs": [
        {
          "output_type": "execute_result",
          "data": {
            "text/plain": [
              "Date\n",
              "2010-01-04         NaN\n",
              "2010-01-05    0.001727\n",
              "2010-01-06   -0.016034\n",
              "2010-01-07   -0.001850\n",
              "2010-01-08    0.006626\n",
              "                ...   \n",
              "2023-12-22   -0.005563\n",
              "2023-12-26   -0.002845\n",
              "2023-12-27    0.000518\n",
              "2023-12-28    0.002224\n",
              "2023-12-29   -0.005439\n",
              "Name: returns, Length: 3522, dtype: float64"
            ]
          },
          "metadata": {},
          "execution_count": 208
        }
      ]
    },
    {
      "cell_type": "code",
      "source": [
        "df['direction'] = [1 if i > 0 else -1 for i in df.returns]"
      ],
      "metadata": {
        "id": "7jwUVKFrnvm4"
      },
      "execution_count": 209,
      "outputs": []
    },
    {
      "cell_type": "code",
      "source": [
        "def lagit(df, lags):\n",
        "  names = []\n",
        "  for i in range(1, lags + 1):\n",
        "    df['Lag_' + str(i)] = df['returns'].shift(i)\n",
        "    df['Lag_' + str(i) + '_dir'] = [1 if j > 0 else -1 for j in df['Lag_' + str(i)]]\n",
        "    names.append('Lag_'+str(i)+'_dir')\n",
        "  return names"
      ],
      "metadata": {
        "id": "r5RdkNpmiqz8"
      },
      "execution_count": 210,
      "outputs": []
    },
    {
      "cell_type": "code",
      "source": [
        "dirnames = lagit(df, 5)"
      ],
      "metadata": {
        "id": "hLcpJ8aLi9Lz"
      },
      "execution_count": 211,
      "outputs": []
    },
    {
      "cell_type": "code",
      "source": [
        "dirnames"
      ],
      "metadata": {
        "colab": {
          "base_uri": "https://localhost:8080/"
        },
        "id": "sfK5DgXvi_HA",
        "outputId": "94bd526c-fd5d-4f2b-c476-6b7d39d985a5"
      },
      "execution_count": 212,
      "outputs": [
        {
          "output_type": "execute_result",
          "data": {
            "text/plain": [
              "['Lag_1_dir', 'Lag_2_dir', 'Lag_3_dir', 'Lag_4_dir', 'Lag_5_dir']"
            ]
          },
          "metadata": {},
          "execution_count": 212
        }
      ]
    },
    {
      "cell_type": "code",
      "source": [
        "df"
      ],
      "metadata": {
        "colab": {
          "base_uri": "https://localhost:8080/",
          "height": 648
        },
        "id": "OiVQC1mrjALq",
        "outputId": "eec3ae01-0123-46c4-e2cf-a55bda7f5bbb"
      },
      "execution_count": 213,
      "outputs": [
        {
          "output_type": "execute_result",
          "data": {
            "text/plain": [
              "                  Open        High         Low       Close   Adj Close  \\\n",
              "Date                                                                     \n",
              "2010-01-04    7.622500    7.660714    7.585000    7.643214    6.461976   \n",
              "2010-01-05    7.664286    7.699643    7.616071    7.656429    6.473149   \n",
              "2010-01-06    7.656429    7.686786    7.526786    7.534643    6.370185   \n",
              "2010-01-07    7.562500    7.571429    7.466071    7.520714    6.358409   \n",
              "2010-01-08    7.510714    7.571429    7.466429    7.570714    6.400683   \n",
              "...                ...         ...         ...         ...         ...   \n",
              "2023-12-22  195.179993  195.410004  192.970001  193.600006  193.091385   \n",
              "2023-12-26  193.610001  193.889999  192.830002  193.050003  192.542831   \n",
              "2023-12-27  192.490005  193.500000  191.089996  193.149994  192.642548   \n",
              "2023-12-28  194.139999  194.660004  193.169998  193.580002  193.071426   \n",
              "2023-12-29  193.899994  194.399994  191.729996  192.529999  192.024185   \n",
              "\n",
              "               Volume   returns  direction     Lag_1  Lag_1_dir     Lag_2  \\\n",
              "Date                                                                        \n",
              "2010-01-04  493729600       NaN         -1       NaN         -1       NaN   \n",
              "2010-01-05  601904800  0.001727          1       NaN         -1       NaN   \n",
              "2010-01-06  552160000 -0.016034         -1  0.001727          1       NaN   \n",
              "2010-01-07  477131200 -0.001850         -1 -0.016034         -1  0.001727   \n",
              "2010-01-08  447610800  0.006626          1 -0.001850         -1 -0.016034   \n",
              "...               ...       ...        ...       ...        ...       ...   \n",
              "2023-12-22   37122800 -0.005563         -1 -0.000770         -1 -0.010772   \n",
              "2023-12-26   28919300 -0.002845         -1 -0.005563         -1 -0.000770   \n",
              "2023-12-27   48087700  0.000518          1 -0.002845         -1 -0.005563   \n",
              "2023-12-28   34049900  0.002224          1  0.000518          1 -0.002845   \n",
              "2023-12-29   42628800 -0.005439         -1  0.002224          1  0.000518   \n",
              "\n",
              "            Lag_2_dir     Lag_3  Lag_3_dir     Lag_4  Lag_4_dir     Lag_5  \\\n",
              "Date                                                                        \n",
              "2010-01-04         -1       NaN         -1       NaN         -1       NaN   \n",
              "2010-01-05         -1       NaN         -1       NaN         -1       NaN   \n",
              "2010-01-06         -1       NaN         -1       NaN         -1       NaN   \n",
              "2010-01-07          1       NaN         -1       NaN         -1       NaN   \n",
              "2010-01-08         -1  0.001727          1       NaN         -1       NaN   \n",
              "...               ...       ...        ...       ...        ...       ...   \n",
              "2023-12-22         -1  0.005346          1 -0.008540         -1 -0.002729   \n",
              "2023-12-26         -1 -0.010772         -1  0.005346          1 -0.008540   \n",
              "2023-12-27         -1 -0.000770         -1 -0.010772         -1  0.005346   \n",
              "2023-12-28         -1 -0.005563         -1 -0.000770         -1 -0.010772   \n",
              "2023-12-29          1 -0.002845         -1 -0.005563         -1 -0.000770   \n",
              "\n",
              "            Lag_5_dir  \n",
              "Date                   \n",
              "2010-01-04         -1  \n",
              "2010-01-05         -1  \n",
              "2010-01-06         -1  \n",
              "2010-01-07         -1  \n",
              "2010-01-08         -1  \n",
              "...               ...  \n",
              "2023-12-22         -1  \n",
              "2023-12-26         -1  \n",
              "2023-12-27          1  \n",
              "2023-12-28         -1  \n",
              "2023-12-29         -1  \n",
              "\n",
              "[3522 rows x 18 columns]"
            ],
            "text/html": [
              "\n",
              "  <div id=\"df-600c41a7-678c-4167-b6df-07c0783e33ef\" class=\"colab-df-container\">\n",
              "    <div>\n",
              "<style scoped>\n",
              "    .dataframe tbody tr th:only-of-type {\n",
              "        vertical-align: middle;\n",
              "    }\n",
              "\n",
              "    .dataframe tbody tr th {\n",
              "        vertical-align: top;\n",
              "    }\n",
              "\n",
              "    .dataframe thead th {\n",
              "        text-align: right;\n",
              "    }\n",
              "</style>\n",
              "<table border=\"1\" class=\"dataframe\">\n",
              "  <thead>\n",
              "    <tr style=\"text-align: right;\">\n",
              "      <th></th>\n",
              "      <th>Open</th>\n",
              "      <th>High</th>\n",
              "      <th>Low</th>\n",
              "      <th>Close</th>\n",
              "      <th>Adj Close</th>\n",
              "      <th>Volume</th>\n",
              "      <th>returns</th>\n",
              "      <th>direction</th>\n",
              "      <th>Lag_1</th>\n",
              "      <th>Lag_1_dir</th>\n",
              "      <th>Lag_2</th>\n",
              "      <th>Lag_2_dir</th>\n",
              "      <th>Lag_3</th>\n",
              "      <th>Lag_3_dir</th>\n",
              "      <th>Lag_4</th>\n",
              "      <th>Lag_4_dir</th>\n",
              "      <th>Lag_5</th>\n",
              "      <th>Lag_5_dir</th>\n",
              "    </tr>\n",
              "    <tr>\n",
              "      <th>Date</th>\n",
              "      <th></th>\n",
              "      <th></th>\n",
              "      <th></th>\n",
              "      <th></th>\n",
              "      <th></th>\n",
              "      <th></th>\n",
              "      <th></th>\n",
              "      <th></th>\n",
              "      <th></th>\n",
              "      <th></th>\n",
              "      <th></th>\n",
              "      <th></th>\n",
              "      <th></th>\n",
              "      <th></th>\n",
              "      <th></th>\n",
              "      <th></th>\n",
              "      <th></th>\n",
              "      <th></th>\n",
              "    </tr>\n",
              "  </thead>\n",
              "  <tbody>\n",
              "    <tr>\n",
              "      <th>2010-01-04</th>\n",
              "      <td>7.622500</td>\n",
              "      <td>7.660714</td>\n",
              "      <td>7.585000</td>\n",
              "      <td>7.643214</td>\n",
              "      <td>6.461976</td>\n",
              "      <td>493729600</td>\n",
              "      <td>NaN</td>\n",
              "      <td>-1</td>\n",
              "      <td>NaN</td>\n",
              "      <td>-1</td>\n",
              "      <td>NaN</td>\n",
              "      <td>-1</td>\n",
              "      <td>NaN</td>\n",
              "      <td>-1</td>\n",
              "      <td>NaN</td>\n",
              "      <td>-1</td>\n",
              "      <td>NaN</td>\n",
              "      <td>-1</td>\n",
              "    </tr>\n",
              "    <tr>\n",
              "      <th>2010-01-05</th>\n",
              "      <td>7.664286</td>\n",
              "      <td>7.699643</td>\n",
              "      <td>7.616071</td>\n",
              "      <td>7.656429</td>\n",
              "      <td>6.473149</td>\n",
              "      <td>601904800</td>\n",
              "      <td>0.001727</td>\n",
              "      <td>1</td>\n",
              "      <td>NaN</td>\n",
              "      <td>-1</td>\n",
              "      <td>NaN</td>\n",
              "      <td>-1</td>\n",
              "      <td>NaN</td>\n",
              "      <td>-1</td>\n",
              "      <td>NaN</td>\n",
              "      <td>-1</td>\n",
              "      <td>NaN</td>\n",
              "      <td>-1</td>\n",
              "    </tr>\n",
              "    <tr>\n",
              "      <th>2010-01-06</th>\n",
              "      <td>7.656429</td>\n",
              "      <td>7.686786</td>\n",
              "      <td>7.526786</td>\n",
              "      <td>7.534643</td>\n",
              "      <td>6.370185</td>\n",
              "      <td>552160000</td>\n",
              "      <td>-0.016034</td>\n",
              "      <td>-1</td>\n",
              "      <td>0.001727</td>\n",
              "      <td>1</td>\n",
              "      <td>NaN</td>\n",
              "      <td>-1</td>\n",
              "      <td>NaN</td>\n",
              "      <td>-1</td>\n",
              "      <td>NaN</td>\n",
              "      <td>-1</td>\n",
              "      <td>NaN</td>\n",
              "      <td>-1</td>\n",
              "    </tr>\n",
              "    <tr>\n",
              "      <th>2010-01-07</th>\n",
              "      <td>7.562500</td>\n",
              "      <td>7.571429</td>\n",
              "      <td>7.466071</td>\n",
              "      <td>7.520714</td>\n",
              "      <td>6.358409</td>\n",
              "      <td>477131200</td>\n",
              "      <td>-0.001850</td>\n",
              "      <td>-1</td>\n",
              "      <td>-0.016034</td>\n",
              "      <td>-1</td>\n",
              "      <td>0.001727</td>\n",
              "      <td>1</td>\n",
              "      <td>NaN</td>\n",
              "      <td>-1</td>\n",
              "      <td>NaN</td>\n",
              "      <td>-1</td>\n",
              "      <td>NaN</td>\n",
              "      <td>-1</td>\n",
              "    </tr>\n",
              "    <tr>\n",
              "      <th>2010-01-08</th>\n",
              "      <td>7.510714</td>\n",
              "      <td>7.571429</td>\n",
              "      <td>7.466429</td>\n",
              "      <td>7.570714</td>\n",
              "      <td>6.400683</td>\n",
              "      <td>447610800</td>\n",
              "      <td>0.006626</td>\n",
              "      <td>1</td>\n",
              "      <td>-0.001850</td>\n",
              "      <td>-1</td>\n",
              "      <td>-0.016034</td>\n",
              "      <td>-1</td>\n",
              "      <td>0.001727</td>\n",
              "      <td>1</td>\n",
              "      <td>NaN</td>\n",
              "      <td>-1</td>\n",
              "      <td>NaN</td>\n",
              "      <td>-1</td>\n",
              "    </tr>\n",
              "    <tr>\n",
              "      <th>...</th>\n",
              "      <td>...</td>\n",
              "      <td>...</td>\n",
              "      <td>...</td>\n",
              "      <td>...</td>\n",
              "      <td>...</td>\n",
              "      <td>...</td>\n",
              "      <td>...</td>\n",
              "      <td>...</td>\n",
              "      <td>...</td>\n",
              "      <td>...</td>\n",
              "      <td>...</td>\n",
              "      <td>...</td>\n",
              "      <td>...</td>\n",
              "      <td>...</td>\n",
              "      <td>...</td>\n",
              "      <td>...</td>\n",
              "      <td>...</td>\n",
              "      <td>...</td>\n",
              "    </tr>\n",
              "    <tr>\n",
              "      <th>2023-12-22</th>\n",
              "      <td>195.179993</td>\n",
              "      <td>195.410004</td>\n",
              "      <td>192.970001</td>\n",
              "      <td>193.600006</td>\n",
              "      <td>193.091385</td>\n",
              "      <td>37122800</td>\n",
              "      <td>-0.005563</td>\n",
              "      <td>-1</td>\n",
              "      <td>-0.000770</td>\n",
              "      <td>-1</td>\n",
              "      <td>-0.010772</td>\n",
              "      <td>-1</td>\n",
              "      <td>0.005346</td>\n",
              "      <td>1</td>\n",
              "      <td>-0.008540</td>\n",
              "      <td>-1</td>\n",
              "      <td>-0.002729</td>\n",
              "      <td>-1</td>\n",
              "    </tr>\n",
              "    <tr>\n",
              "      <th>2023-12-26</th>\n",
              "      <td>193.610001</td>\n",
              "      <td>193.889999</td>\n",
              "      <td>192.830002</td>\n",
              "      <td>193.050003</td>\n",
              "      <td>192.542831</td>\n",
              "      <td>28919300</td>\n",
              "      <td>-0.002845</td>\n",
              "      <td>-1</td>\n",
              "      <td>-0.005563</td>\n",
              "      <td>-1</td>\n",
              "      <td>-0.000770</td>\n",
              "      <td>-1</td>\n",
              "      <td>-0.010772</td>\n",
              "      <td>-1</td>\n",
              "      <td>0.005346</td>\n",
              "      <td>1</td>\n",
              "      <td>-0.008540</td>\n",
              "      <td>-1</td>\n",
              "    </tr>\n",
              "    <tr>\n",
              "      <th>2023-12-27</th>\n",
              "      <td>192.490005</td>\n",
              "      <td>193.500000</td>\n",
              "      <td>191.089996</td>\n",
              "      <td>193.149994</td>\n",
              "      <td>192.642548</td>\n",
              "      <td>48087700</td>\n",
              "      <td>0.000518</td>\n",
              "      <td>1</td>\n",
              "      <td>-0.002845</td>\n",
              "      <td>-1</td>\n",
              "      <td>-0.005563</td>\n",
              "      <td>-1</td>\n",
              "      <td>-0.000770</td>\n",
              "      <td>-1</td>\n",
              "      <td>-0.010772</td>\n",
              "      <td>-1</td>\n",
              "      <td>0.005346</td>\n",
              "      <td>1</td>\n",
              "    </tr>\n",
              "    <tr>\n",
              "      <th>2023-12-28</th>\n",
              "      <td>194.139999</td>\n",
              "      <td>194.660004</td>\n",
              "      <td>193.169998</td>\n",
              "      <td>193.580002</td>\n",
              "      <td>193.071426</td>\n",
              "      <td>34049900</td>\n",
              "      <td>0.002224</td>\n",
              "      <td>1</td>\n",
              "      <td>0.000518</td>\n",
              "      <td>1</td>\n",
              "      <td>-0.002845</td>\n",
              "      <td>-1</td>\n",
              "      <td>-0.005563</td>\n",
              "      <td>-1</td>\n",
              "      <td>-0.000770</td>\n",
              "      <td>-1</td>\n",
              "      <td>-0.010772</td>\n",
              "      <td>-1</td>\n",
              "    </tr>\n",
              "    <tr>\n",
              "      <th>2023-12-29</th>\n",
              "      <td>193.899994</td>\n",
              "      <td>194.399994</td>\n",
              "      <td>191.729996</td>\n",
              "      <td>192.529999</td>\n",
              "      <td>192.024185</td>\n",
              "      <td>42628800</td>\n",
              "      <td>-0.005439</td>\n",
              "      <td>-1</td>\n",
              "      <td>0.002224</td>\n",
              "      <td>1</td>\n",
              "      <td>0.000518</td>\n",
              "      <td>1</td>\n",
              "      <td>-0.002845</td>\n",
              "      <td>-1</td>\n",
              "      <td>-0.005563</td>\n",
              "      <td>-1</td>\n",
              "      <td>-0.000770</td>\n",
              "      <td>-1</td>\n",
              "    </tr>\n",
              "  </tbody>\n",
              "</table>\n",
              "<p>3522 rows × 18 columns</p>\n",
              "</div>\n",
              "    <div class=\"colab-df-buttons\">\n",
              "\n",
              "  <div class=\"colab-df-container\">\n",
              "    <button class=\"colab-df-convert\" onclick=\"convertToInteractive('df-600c41a7-678c-4167-b6df-07c0783e33ef')\"\n",
              "            title=\"Convert this dataframe to an interactive table.\"\n",
              "            style=\"display:none;\">\n",
              "\n",
              "  <svg xmlns=\"http://www.w3.org/2000/svg\" height=\"24px\" viewBox=\"0 -960 960 960\">\n",
              "    <path d=\"M120-120v-720h720v720H120Zm60-500h600v-160H180v160Zm220 220h160v-160H400v160Zm0 220h160v-160H400v160ZM180-400h160v-160H180v160Zm440 0h160v-160H620v160ZM180-180h160v-160H180v160Zm440 0h160v-160H620v160Z\"/>\n",
              "  </svg>\n",
              "    </button>\n",
              "\n",
              "  <style>\n",
              "    .colab-df-container {\n",
              "      display:flex;\n",
              "      gap: 12px;\n",
              "    }\n",
              "\n",
              "    .colab-df-convert {\n",
              "      background-color: #E8F0FE;\n",
              "      border: none;\n",
              "      border-radius: 50%;\n",
              "      cursor: pointer;\n",
              "      display: none;\n",
              "      fill: #1967D2;\n",
              "      height: 32px;\n",
              "      padding: 0 0 0 0;\n",
              "      width: 32px;\n",
              "    }\n",
              "\n",
              "    .colab-df-convert:hover {\n",
              "      background-color: #E2EBFA;\n",
              "      box-shadow: 0px 1px 2px rgba(60, 64, 67, 0.3), 0px 1px 3px 1px rgba(60, 64, 67, 0.15);\n",
              "      fill: #174EA6;\n",
              "    }\n",
              "\n",
              "    .colab-df-buttons div {\n",
              "      margin-bottom: 4px;\n",
              "    }\n",
              "\n",
              "    [theme=dark] .colab-df-convert {\n",
              "      background-color: #3B4455;\n",
              "      fill: #D2E3FC;\n",
              "    }\n",
              "\n",
              "    [theme=dark] .colab-df-convert:hover {\n",
              "      background-color: #434B5C;\n",
              "      box-shadow: 0px 1px 3px 1px rgba(0, 0, 0, 0.15);\n",
              "      filter: drop-shadow(0px 1px 2px rgba(0, 0, 0, 0.3));\n",
              "      fill: #FFFFFF;\n",
              "    }\n",
              "  </style>\n",
              "\n",
              "    <script>\n",
              "      const buttonEl =\n",
              "        document.querySelector('#df-600c41a7-678c-4167-b6df-07c0783e33ef button.colab-df-convert');\n",
              "      buttonEl.style.display =\n",
              "        google.colab.kernel.accessAllowed ? 'block' : 'none';\n",
              "\n",
              "      async function convertToInteractive(key) {\n",
              "        const element = document.querySelector('#df-600c41a7-678c-4167-b6df-07c0783e33ef');\n",
              "        const dataTable =\n",
              "          await google.colab.kernel.invokeFunction('convertToInteractive',\n",
              "                                                    [key], {});\n",
              "        if (!dataTable) return;\n",
              "\n",
              "        const docLinkHtml = 'Like what you see? Visit the ' +\n",
              "          '<a target=\"_blank\" href=https://colab.research.google.com/notebooks/data_table.ipynb>data table notebook</a>'\n",
              "          + ' to learn more about interactive tables.';\n",
              "        element.innerHTML = '';\n",
              "        dataTable['output_type'] = 'display_data';\n",
              "        await google.colab.output.renderOutput(dataTable, element);\n",
              "        const docLink = document.createElement('div');\n",
              "        docLink.innerHTML = docLinkHtml;\n",
              "        element.appendChild(docLink);\n",
              "      }\n",
              "    </script>\n",
              "  </div>\n",
              "\n",
              "\n",
              "<div id=\"df-ac180285-b000-4c3f-b51e-23ecaf21f22f\">\n",
              "  <button class=\"colab-df-quickchart\" onclick=\"quickchart('df-ac180285-b000-4c3f-b51e-23ecaf21f22f')\"\n",
              "            title=\"Suggest charts\"\n",
              "            style=\"display:none;\">\n",
              "\n",
              "<svg xmlns=\"http://www.w3.org/2000/svg\" height=\"24px\"viewBox=\"0 0 24 24\"\n",
              "     width=\"24px\">\n",
              "    <g>\n",
              "        <path d=\"M19 3H5c-1.1 0-2 .9-2 2v14c0 1.1.9 2 2 2h14c1.1 0 2-.9 2-2V5c0-1.1-.9-2-2-2zM9 17H7v-7h2v7zm4 0h-2V7h2v10zm4 0h-2v-4h2v4z\"/>\n",
              "    </g>\n",
              "</svg>\n",
              "  </button>\n",
              "\n",
              "<style>\n",
              "  .colab-df-quickchart {\n",
              "      --bg-color: #E8F0FE;\n",
              "      --fill-color: #1967D2;\n",
              "      --hover-bg-color: #E2EBFA;\n",
              "      --hover-fill-color: #174EA6;\n",
              "      --disabled-fill-color: #AAA;\n",
              "      --disabled-bg-color: #DDD;\n",
              "  }\n",
              "\n",
              "  [theme=dark] .colab-df-quickchart {\n",
              "      --bg-color: #3B4455;\n",
              "      --fill-color: #D2E3FC;\n",
              "      --hover-bg-color: #434B5C;\n",
              "      --hover-fill-color: #FFFFFF;\n",
              "      --disabled-bg-color: #3B4455;\n",
              "      --disabled-fill-color: #666;\n",
              "  }\n",
              "\n",
              "  .colab-df-quickchart {\n",
              "    background-color: var(--bg-color);\n",
              "    border: none;\n",
              "    border-radius: 50%;\n",
              "    cursor: pointer;\n",
              "    display: none;\n",
              "    fill: var(--fill-color);\n",
              "    height: 32px;\n",
              "    padding: 0;\n",
              "    width: 32px;\n",
              "  }\n",
              "\n",
              "  .colab-df-quickchart:hover {\n",
              "    background-color: var(--hover-bg-color);\n",
              "    box-shadow: 0 1px 2px rgba(60, 64, 67, 0.3), 0 1px 3px 1px rgba(60, 64, 67, 0.15);\n",
              "    fill: var(--button-hover-fill-color);\n",
              "  }\n",
              "\n",
              "  .colab-df-quickchart-complete:disabled,\n",
              "  .colab-df-quickchart-complete:disabled:hover {\n",
              "    background-color: var(--disabled-bg-color);\n",
              "    fill: var(--disabled-fill-color);\n",
              "    box-shadow: none;\n",
              "  }\n",
              "\n",
              "  .colab-df-spinner {\n",
              "    border: 2px solid var(--fill-color);\n",
              "    border-color: transparent;\n",
              "    border-bottom-color: var(--fill-color);\n",
              "    animation:\n",
              "      spin 1s steps(1) infinite;\n",
              "  }\n",
              "\n",
              "  @keyframes spin {\n",
              "    0% {\n",
              "      border-color: transparent;\n",
              "      border-bottom-color: var(--fill-color);\n",
              "      border-left-color: var(--fill-color);\n",
              "    }\n",
              "    20% {\n",
              "      border-color: transparent;\n",
              "      border-left-color: var(--fill-color);\n",
              "      border-top-color: var(--fill-color);\n",
              "    }\n",
              "    30% {\n",
              "      border-color: transparent;\n",
              "      border-left-color: var(--fill-color);\n",
              "      border-top-color: var(--fill-color);\n",
              "      border-right-color: var(--fill-color);\n",
              "    }\n",
              "    40% {\n",
              "      border-color: transparent;\n",
              "      border-right-color: var(--fill-color);\n",
              "      border-top-color: var(--fill-color);\n",
              "    }\n",
              "    60% {\n",
              "      border-color: transparent;\n",
              "      border-right-color: var(--fill-color);\n",
              "    }\n",
              "    80% {\n",
              "      border-color: transparent;\n",
              "      border-right-color: var(--fill-color);\n",
              "      border-bottom-color: var(--fill-color);\n",
              "    }\n",
              "    90% {\n",
              "      border-color: transparent;\n",
              "      border-bottom-color: var(--fill-color);\n",
              "    }\n",
              "  }\n",
              "</style>\n",
              "\n",
              "  <script>\n",
              "    async function quickchart(key) {\n",
              "      const quickchartButtonEl =\n",
              "        document.querySelector('#' + key + ' button');\n",
              "      quickchartButtonEl.disabled = true;  // To prevent multiple clicks.\n",
              "      quickchartButtonEl.classList.add('colab-df-spinner');\n",
              "      try {\n",
              "        const charts = await google.colab.kernel.invokeFunction(\n",
              "            'suggestCharts', [key], {});\n",
              "      } catch (error) {\n",
              "        console.error('Error during call to suggestCharts:', error);\n",
              "      }\n",
              "      quickchartButtonEl.classList.remove('colab-df-spinner');\n",
              "      quickchartButtonEl.classList.add('colab-df-quickchart-complete');\n",
              "    }\n",
              "    (() => {\n",
              "      let quickchartButtonEl =\n",
              "        document.querySelector('#df-ac180285-b000-4c3f-b51e-23ecaf21f22f button');\n",
              "      quickchartButtonEl.style.display =\n",
              "        google.colab.kernel.accessAllowed ? 'block' : 'none';\n",
              "    })();\n",
              "  </script>\n",
              "</div>\n",
              "    </div>\n",
              "  </div>\n"
            ],
            "application/vnd.google.colaboratory.intrinsic+json": {
              "type": "dataframe",
              "variable_name": "df",
              "summary": "{\n  \"name\": \"df\",\n  \"rows\": 3522,\n  \"fields\": [\n    {\n      \"column\": \"Date\",\n      \"properties\": {\n        \"dtype\": \"date\",\n        \"min\": \"2010-01-04 00:00:00\",\n        \"max\": \"2023-12-29 00:00:00\",\n        \"num_unique_values\": 3522,\n        \"samples\": [\n          \"2022-08-30 00:00:00\",\n          \"2017-06-30 00:00:00\",\n          \"2021-10-14 00:00:00\"\n        ],\n        \"semantic_type\": \"\",\n        \"description\": \"\"\n      }\n    },\n    {\n      \"column\": \"Open\",\n      \"properties\": {\n        \"dtype\": \"number\",\n        \"std\": 55.38752019775716,\n        \"min\": 6.870357036590576,\n        \"max\": 198.02000427246094,\n        \"num_unique_values\": 3360,\n        \"samples\": [\n          24.200000762939453,\n          29.21500015258789,\n          31.607500076293945\n        ],\n        \"semantic_type\": \"\",\n        \"description\": \"\"\n      }\n    },\n    {\n      \"column\": \"High\",\n      \"properties\": {\n        \"dtype\": \"number\",\n        \"std\": 56.014466911062826,\n        \"min\": 7.0,\n        \"max\": 199.6199951171875,\n        \"num_unique_values\": 3341,\n        \"samples\": [\n          14.254643440246582,\n          56.342498779296875,\n          20.428571701049805\n        ],\n        \"semantic_type\": \"\",\n        \"description\": \"\"\n      }\n    },\n    {\n      \"column\": \"Low\",\n      \"properties\": {\n        \"dtype\": \"number\",\n        \"std\": 54.812449350737005,\n        \"min\": 6.794642925262451,\n        \"max\": 197.0,\n        \"num_unique_values\": 3363,\n        \"samples\": [\n          23.142499923706055,\n          60.3025016784668,\n          15.020357131958008\n        ],\n        \"semantic_type\": \"\",\n        \"description\": \"\"\n      }\n    },\n    {\n      \"column\": \"Close\",\n      \"properties\": {\n        \"dtype\": \"number\",\n        \"std\": 55.44453292757673,\n        \"min\": 6.85892915725708,\n        \"max\": 198.11000061035156,\n        \"num_unique_values\": 3363,\n        \"samples\": [\n          22.9950008392334,\n          59.102500915527344,\n          15.275713920593262\n        ],\n        \"semantic_type\": \"\",\n        \"description\": \"\"\n      }\n    },\n    {\n      \"column\": \"Adj Close\",\n      \"properties\": {\n        \"dtype\": \"number\",\n        \"std\": 55.70671041287006,\n        \"min\": 5.798900127410889,\n        \"max\": 197.5895233154297,\n        \"num_unique_values\": 3473,\n        \"samples\": [\n          170.49766540527344,\n          26.849666595458984,\n          13.308056831359863\n        ],\n        \"semantic_type\": \"\",\n        \"description\": \"\"\n      }\n    },\n    {\n      \"column\": \"Volume\",\n      \"properties\": {\n        \"dtype\": \"number\",\n        \"std\": 220457847,\n        \"min\": 24048300,\n        \"max\": 1880998000,\n        \"num_unique_values\": 3513,\n        \"samples\": [\n          249412800,\n          535110800,\n          212587200\n        ],\n        \"semantic_type\": \"\",\n        \"description\": \"\"\n      }\n    },\n    {\n      \"column\": \"returns\",\n      \"properties\": {\n        \"dtype\": \"number\",\n        \"std\": 0.017784029308733847,\n        \"min\": -0.137708052412532,\n        \"max\": 0.11315748006946919,\n        \"num_unique_values\": 3515,\n        \"samples\": [\n          0.026250747477459573,\n          -0.006125132193952088,\n          -0.017908799937008203\n        ],\n        \"semantic_type\": \"\",\n        \"description\": \"\"\n      }\n    },\n    {\n      \"column\": \"direction\",\n      \"properties\": {\n        \"dtype\": \"number\",\n        \"std\": 0,\n        \"min\": -1,\n        \"max\": 1,\n        \"num_unique_values\": 2,\n        \"samples\": [\n          1,\n          -1\n        ],\n        \"semantic_type\": \"\",\n        \"description\": \"\"\n      }\n    },\n    {\n      \"column\": \"Lag_1\",\n      \"properties\": {\n        \"dtype\": \"number\",\n        \"std\": 0.017786233250254267,\n        \"min\": -0.137708052412532,\n        \"max\": 0.11315748006946919,\n        \"num_unique_values\": 3514,\n        \"samples\": [\n          0.026250747477459573,\n          -0.006125132193952088\n        ],\n        \"semantic_type\": \"\",\n        \"description\": \"\"\n      }\n    },\n    {\n      \"column\": \"Lag_1_dir\",\n      \"properties\": {\n        \"dtype\": \"number\",\n        \"std\": 0,\n        \"min\": -1,\n        \"max\": 1,\n        \"num_unique_values\": 2,\n        \"samples\": [\n          1,\n          -1\n        ],\n        \"semantic_type\": \"\",\n        \"description\": \"\"\n      }\n    },\n    {\n      \"column\": \"Lag_2\",\n      \"properties\": {\n        \"dtype\": \"number\",\n        \"std\": 0.01778874733608024,\n        \"min\": -0.137708052412532,\n        \"max\": 0.11315748006946919,\n        \"num_unique_values\": 3513,\n        \"samples\": [\n          0.010420401304807151,\n          -0.011624839013277943\n        ],\n        \"semantic_type\": \"\",\n        \"description\": \"\"\n      }\n    },\n    {\n      \"column\": \"Lag_2_dir\",\n      \"properties\": {\n        \"dtype\": \"number\",\n        \"std\": 0,\n        \"min\": -1,\n        \"max\": 1,\n        \"num_unique_values\": 2,\n        \"samples\": [\n          1,\n          -1\n        ],\n        \"semantic_type\": \"\",\n        \"description\": \"\"\n      }\n    },\n    {\n      \"column\": \"Lag_3\",\n      \"properties\": {\n        \"dtype\": \"number\",\n        \"std\": 0.017791274843800022,\n        \"min\": -0.137708052412532,\n        \"max\": 0.11315748006946919,\n        \"num_unique_values\": 3512,\n        \"samples\": [\n          0.0353177295879374,\n          0.01631220279462042\n        ],\n        \"semantic_type\": \"\",\n        \"description\": \"\"\n      }\n    },\n    {\n      \"column\": \"Lag_3_dir\",\n      \"properties\": {\n        \"dtype\": \"number\",\n        \"std\": 0,\n        \"min\": -1,\n        \"max\": 1,\n        \"num_unique_values\": 2,\n        \"samples\": [\n          1,\n          -1\n        ],\n        \"semantic_type\": \"\",\n        \"description\": \"\"\n      }\n    },\n    {\n      \"column\": \"Lag_4\",\n      \"properties\": {\n        \"dtype\": \"number\",\n        \"std\": 0.017793691517573186,\n        \"min\": -0.137708052412532,\n        \"max\": 0.11315748006946919,\n        \"num_unique_values\": 3511,\n        \"samples\": [\n          0.0353177295879374,\n          0.01631220279462042\n        ],\n        \"semantic_type\": \"\",\n        \"description\": \"\"\n      }\n    },\n    {\n      \"column\": \"Lag_4_dir\",\n      \"properties\": {\n        \"dtype\": \"number\",\n        \"std\": 0,\n        \"min\": -1,\n        \"max\": 1,\n        \"num_unique_values\": 2,\n        \"samples\": [\n          1,\n          -1\n        ],\n        \"semantic_type\": \"\",\n        \"description\": \"\"\n      }\n    },\n    {\n      \"column\": \"Lag_5\",\n      \"properties\": {\n        \"dtype\": \"number\",\n        \"std\": 0.01779588651574407,\n        \"min\": -0.137708052412532,\n        \"max\": 0.11315748006946919,\n        \"num_unique_values\": 3510,\n        \"samples\": [\n          -0.019111362426848168,\n          -0.006763933692103001\n        ],\n        \"semantic_type\": \"\",\n        \"description\": \"\"\n      }\n    },\n    {\n      \"column\": \"Lag_5_dir\",\n      \"properties\": {\n        \"dtype\": \"number\",\n        \"std\": 0,\n        \"min\": -1,\n        \"max\": 1,\n        \"num_unique_values\": 2,\n        \"samples\": [\n          1,\n          -1\n        ],\n        \"semantic_type\": \"\",\n        \"description\": \"\"\n      }\n    }\n  ]\n}"
            }
          },
          "metadata": {},
          "execution_count": 213
        }
      ]
    },
    {
      "cell_type": "code",
      "source": [
        "df.dropna(inplace = True)"
      ],
      "metadata": {
        "id": "HW1BCZTkjC83"
      },
      "execution_count": 214,
      "outputs": []
    },
    {
      "cell_type": "code",
      "source": [
        "from sklearn.linear_model import LogisticRegression"
      ],
      "metadata": {
        "id": "jYHjgZ7njMJR"
      },
      "execution_count": 215,
      "outputs": []
    },
    {
      "cell_type": "code",
      "source": [
        "model = LogisticRegression()"
      ],
      "metadata": {
        "id": "CxmijgMljO9K"
      },
      "execution_count": 216,
      "outputs": []
    },
    {
      "cell_type": "code",
      "source": [
        "model.fit(df[dirnames], df['direction'])"
      ],
      "metadata": {
        "colab": {
          "base_uri": "https://localhost:8080/",
          "height": 74
        },
        "id": "0vKl62ZWjWUj",
        "outputId": "d025eb64-cb0a-4806-bc4c-dba0617533b1"
      },
      "execution_count": 217,
      "outputs": [
        {
          "output_type": "execute_result",
          "data": {
            "text/plain": [
              "LogisticRegression()"
            ],
            "text/html": [
              "<style>#sk-container-id-14 {color: black;background-color: white;}#sk-container-id-14 pre{padding: 0;}#sk-container-id-14 div.sk-toggleable {background-color: white;}#sk-container-id-14 label.sk-toggleable__label {cursor: pointer;display: block;width: 100%;margin-bottom: 0;padding: 0.3em;box-sizing: border-box;text-align: center;}#sk-container-id-14 label.sk-toggleable__label-arrow:before {content: \"▸\";float: left;margin-right: 0.25em;color: #696969;}#sk-container-id-14 label.sk-toggleable__label-arrow:hover:before {color: black;}#sk-container-id-14 div.sk-estimator:hover label.sk-toggleable__label-arrow:before {color: black;}#sk-container-id-14 div.sk-toggleable__content {max-height: 0;max-width: 0;overflow: hidden;text-align: left;background-color: #f0f8ff;}#sk-container-id-14 div.sk-toggleable__content pre {margin: 0.2em;color: black;border-radius: 0.25em;background-color: #f0f8ff;}#sk-container-id-14 input.sk-toggleable__control:checked~div.sk-toggleable__content {max-height: 200px;max-width: 100%;overflow: auto;}#sk-container-id-14 input.sk-toggleable__control:checked~label.sk-toggleable__label-arrow:before {content: \"▾\";}#sk-container-id-14 div.sk-estimator input.sk-toggleable__control:checked~label.sk-toggleable__label {background-color: #d4ebff;}#sk-container-id-14 div.sk-label input.sk-toggleable__control:checked~label.sk-toggleable__label {background-color: #d4ebff;}#sk-container-id-14 input.sk-hidden--visually {border: 0;clip: rect(1px 1px 1px 1px);clip: rect(1px, 1px, 1px, 1px);height: 1px;margin: -1px;overflow: hidden;padding: 0;position: absolute;width: 1px;}#sk-container-id-14 div.sk-estimator {font-family: monospace;background-color: #f0f8ff;border: 1px dotted black;border-radius: 0.25em;box-sizing: border-box;margin-bottom: 0.5em;}#sk-container-id-14 div.sk-estimator:hover {background-color: #d4ebff;}#sk-container-id-14 div.sk-parallel-item::after {content: \"\";width: 100%;border-bottom: 1px solid gray;flex-grow: 1;}#sk-container-id-14 div.sk-label:hover label.sk-toggleable__label {background-color: #d4ebff;}#sk-container-id-14 div.sk-serial::before {content: \"\";position: absolute;border-left: 1px solid gray;box-sizing: border-box;top: 0;bottom: 0;left: 50%;z-index: 0;}#sk-container-id-14 div.sk-serial {display: flex;flex-direction: column;align-items: center;background-color: white;padding-right: 0.2em;padding-left: 0.2em;position: relative;}#sk-container-id-14 div.sk-item {position: relative;z-index: 1;}#sk-container-id-14 div.sk-parallel {display: flex;align-items: stretch;justify-content: center;background-color: white;position: relative;}#sk-container-id-14 div.sk-item::before, #sk-container-id-14 div.sk-parallel-item::before {content: \"\";position: absolute;border-left: 1px solid gray;box-sizing: border-box;top: 0;bottom: 0;left: 50%;z-index: -1;}#sk-container-id-14 div.sk-parallel-item {display: flex;flex-direction: column;z-index: 1;position: relative;background-color: white;}#sk-container-id-14 div.sk-parallel-item:first-child::after {align-self: flex-end;width: 50%;}#sk-container-id-14 div.sk-parallel-item:last-child::after {align-self: flex-start;width: 50%;}#sk-container-id-14 div.sk-parallel-item:only-child::after {width: 0;}#sk-container-id-14 div.sk-dashed-wrapped {border: 1px dashed gray;margin: 0 0.4em 0.5em 0.4em;box-sizing: border-box;padding-bottom: 0.4em;background-color: white;}#sk-container-id-14 div.sk-label label {font-family: monospace;font-weight: bold;display: inline-block;line-height: 1.2em;}#sk-container-id-14 div.sk-label-container {text-align: center;}#sk-container-id-14 div.sk-container {/* jupyter's `normalize.less` sets `[hidden] { display: none; }` but bootstrap.min.css set `[hidden] { display: none !important; }` so we also need the `!important` here to be able to override the default hidden behavior on the sphinx rendered scikit-learn.org. See: https://github.com/scikit-learn/scikit-learn/issues/21755 */display: inline-block !important;position: relative;}#sk-container-id-14 div.sk-text-repr-fallback {display: none;}</style><div id=\"sk-container-id-14\" class=\"sk-top-container\"><div class=\"sk-text-repr-fallback\"><pre>LogisticRegression()</pre><b>In a Jupyter environment, please rerun this cell to show the HTML representation or trust the notebook. <br />On GitHub, the HTML representation is unable to render, please try loading this page with nbviewer.org.</b></div><div class=\"sk-container\" hidden><div class=\"sk-item\"><div class=\"sk-estimator sk-toggleable\"><input class=\"sk-toggleable__control sk-hidden--visually\" id=\"sk-estimator-id-14\" type=\"checkbox\" checked><label for=\"sk-estimator-id-14\" class=\"sk-toggleable__label sk-toggleable__label-arrow\">LogisticRegression</label><div class=\"sk-toggleable__content\"><pre>LogisticRegression()</pre></div></div></div></div></div>"
            ]
          },
          "metadata": {},
          "execution_count": 217
        }
      ]
    },
    {
      "cell_type": "code",
      "source": [
        "df['prediction_Logistic'] = model.predict(df[dirnames])"
      ],
      "metadata": {
        "id": "cfdC2pWKjb7e"
      },
      "execution_count": 218,
      "outputs": []
    },
    {
      "cell_type": "code",
      "source": [
        "df['prediction_Logistic']"
      ],
      "metadata": {
        "colab": {
          "base_uri": "https://localhost:8080/"
        },
        "id": "_d9kMaLEjgjQ",
        "outputId": "59bfc6e5-0939-4969-fb13-806693a0378d"
      },
      "execution_count": 219,
      "outputs": [
        {
          "output_type": "execute_result",
          "data": {
            "text/plain": [
              "Date\n",
              "2010-01-12    1\n",
              "2010-01-13    1\n",
              "2010-01-14    1\n",
              "2010-01-15    1\n",
              "2010-01-19    1\n",
              "             ..\n",
              "2023-12-22    1\n",
              "2023-12-26    1\n",
              "2023-12-27    1\n",
              "2023-12-28    1\n",
              "2023-12-29    1\n",
              "Name: prediction_Logistic, Length: 3516, dtype: int64"
            ]
          },
          "metadata": {},
          "execution_count": 219
        }
      ]
    },
    {
      "cell_type": "code",
      "source": [
        "df['start_Logistic'] = df['prediction_Logistic'] * df['returns']"
      ],
      "metadata": {
        "id": "fgA0rmYkjvZ0"
      },
      "execution_count": 220,
      "outputs": []
    },
    {
      "cell_type": "code",
      "source": [
        "np.exp(df[['returns', 'start_Logistic']].sum())"
      ],
      "metadata": {
        "colab": {
          "base_uri": "https://localhost:8080/"
        },
        "id": "PNjvp5B_j4BI",
        "outputId": "09b4fe06-4560-4e0a-ab3e-2c99b2c35c29"
      },
      "execution_count": 221,
      "outputs": [
        {
          "output_type": "execute_result",
          "data": {
            "text/plain": [
              "returns           25.657225\n",
              "start_Logistic    44.910114\n",
              "dtype: float64"
            ]
          },
          "metadata": {},
          "execution_count": 221
        }
      ]
    },
    {
      "cell_type": "code",
      "source": [
        "np.exp(df[['returns', 'start_Logistic']].cumsum()).plot()"
      ],
      "metadata": {
        "colab": {
          "base_uri": "https://localhost:8080/",
          "height": 439
        },
        "id": "m7AvQgOHkA95",
        "outputId": "39cecf4f-c454-4915-8c75-9ad1709136b9"
      },
      "execution_count": 222,
      "outputs": [
        {
          "output_type": "execute_result",
          "data": {
            "text/plain": [
              "<Axes: xlabel='Date'>"
            ]
          },
          "metadata": {},
          "execution_count": 222
        },
        {
          "output_type": "display_data",
          "data": {
            "text/plain": [
              "<Figure size 640x480 with 1 Axes>"
            ],
            "image/png": "[encoded data removed]"
          },
          "metadata": {}
        }
      ]
    },
    {
      "cell_type": "code",
      "source": [
        "from sklearn.model_selection import train_test_split"
      ],
      "metadata": {
        "id": "QNH_zb_WkLWx"
      },
      "execution_count": 223,
      "outputs": []
    },
    {
      "cell_type": "code",
      "source": [
        "train, test = train_test_split(df, shuffle = False, test_size = 0.3, random_state = 0)"
      ],
      "metadata": {
        "id": "NgDE2oLKk29L"
      },
      "execution_count": 224,
      "outputs": []
    },
    {
      "cell_type": "code",
      "source": [
        "model = LogisticRegression()"
      ],
      "metadata": {
        "id": "ygk25IJOk_E3"
      },
      "execution_count": 225,
      "outputs": []
    },
    {
      "cell_type": "code",
      "source": [
        "model.fit(train[dirnames], train['direction'])"
      ],
      "metadata": {
        "colab": {
          "base_uri": "https://localhost:8080/",
          "height": 74
        },
        "id": "3NhdZmb3lCiK",
        "outputId": "d2b86b02-6b58-4dac-be08-c72efa7f3f1d"
      },
      "execution_count": 226,
      "outputs": [
        {
          "output_type": "execute_result",
          "data": {
            "text/plain": [
              "LogisticRegression()"
            ],
            "text/html": [
              "<style>#sk-container-id-15 {color: black;background-color: white;}#sk-container-id-15 pre{padding: 0;}#sk-container-id-15 div.sk-toggleable {background-color: white;}#sk-container-id-15 label.sk-toggleable__label {cursor: pointer;display: block;width: 100%;margin-bottom: 0;padding: 0.3em;box-sizing: border-box;text-align: center;}#sk-container-id-15 label.sk-toggleable__label-arrow:before {content: \"▸\";float: left;margin-right: 0.25em;color: #696969;}#sk-container-id-15 label.sk-toggleable__label-arrow:hover:before {color: black;}#sk-container-id-15 div.sk-estimator:hover label.sk-toggleable__label-arrow:before {color: black;}#sk-container-id-15 div.sk-toggleable__content {max-height: 0;max-width: 0;overflow: hidden;text-align: left;background-color: #f0f8ff;}#sk-container-id-15 div.sk-toggleable__content pre {margin: 0.2em;color: black;border-radius: 0.25em;background-color: #f0f8ff;}#sk-container-id-15 input.sk-toggleable__control:checked~div.sk-toggleable__content {max-height: 200px;max-width: 100%;overflow: auto;}#sk-container-id-15 input.sk-toggleable__control:checked~label.sk-toggleable__label-arrow:before {content: \"▾\";}#sk-container-id-15 div.sk-estimator input.sk-toggleable__control:checked~label.sk-toggleable__label {background-color: #d4ebff;}#sk-container-id-15 div.sk-label input.sk-toggleable__control:checked~label.sk-toggleable__label {background-color: #d4ebff;}#sk-container-id-15 input.sk-hidden--visually {border: 0;clip: rect(1px 1px 1px 1px);clip: rect(1px, 1px, 1px, 1px);height: 1px;margin: -1px;overflow: hidden;padding: 0;position: absolute;width: 1px;}#sk-container-id-15 div.sk-estimator {font-family: monospace;background-color: #f0f8ff;border: 1px dotted black;border-radius: 0.25em;box-sizing: border-box;margin-bottom: 0.5em;}#sk-container-id-15 div.sk-estimator:hover {background-color: #d4ebff;}#sk-container-id-15 div.sk-parallel-item::after {content: \"\";width: 100%;border-bottom: 1px solid gray;flex-grow: 1;}#sk-container-id-15 div.sk-label:hover label.sk-toggleable__label {background-color: #d4ebff;}#sk-container-id-15 div.sk-serial::before {content: \"\";position: absolute;border-left: 1px solid gray;box-sizing: border-box;top: 0;bottom: 0;left: 50%;z-index: 0;}#sk-container-id-15 div.sk-serial {display: flex;flex-direction: column;align-items: center;background-color: white;padding-right: 0.2em;padding-left: 0.2em;position: relative;}#sk-container-id-15 div.sk-item {position: relative;z-index: 1;}#sk-container-id-15 div.sk-parallel {display: flex;align-items: stretch;justify-content: center;background-color: white;position: relative;}#sk-container-id-15 div.sk-item::before, #sk-container-id-15 div.sk-parallel-item::before {content: \"\";position: absolute;border-left: 1px solid gray;box-sizing: border-box;top: 0;bottom: 0;left: 50%;z-index: -1;}#sk-container-id-15 div.sk-parallel-item {display: flex;flex-direction: column;z-index: 1;position: relative;background-color: white;}#sk-container-id-15 div.sk-parallel-item:first-child::after {align-self: flex-end;width: 50%;}#sk-container-id-15 div.sk-parallel-item:last-child::after {align-self: flex-start;width: 50%;}#sk-container-id-15 div.sk-parallel-item:only-child::after {width: 0;}#sk-container-id-15 div.sk-dashed-wrapped {border: 1px dashed gray;margin: 0 0.4em 0.5em 0.4em;box-sizing: border-box;padding-bottom: 0.4em;background-color: white;}#sk-container-id-15 div.sk-label label {font-family: monospace;font-weight: bold;display: inline-block;line-height: 1.2em;}#sk-container-id-15 div.sk-label-container {text-align: center;}#sk-container-id-15 div.sk-container {/* jupyter's `normalize.less` sets `[hidden] { display: none; }` but bootstrap.min.css set `[hidden] { display: none !important; }` so we also need the `!important` here to be able to override the default hidden behavior on the sphinx rendered scikit-learn.org. See: https://github.com/scikit-learn/scikit-learn/issues/21755 */display: inline-block !important;position: relative;}#sk-container-id-15 div.sk-text-repr-fallback {display: none;}</style><div id=\"sk-container-id-15\" class=\"sk-top-container\"><div class=\"sk-text-repr-fallback\"><pre>LogisticRegression()</pre><b>In a Jupyter environment, please rerun this cell to show the HTML representation or trust the notebook. <br />On GitHub, the HTML representation is unable to render, please try loading this page with nbviewer.org.</b></div><div class=\"sk-container\" hidden><div class=\"sk-item\"><div class=\"sk-estimator sk-toggleable\"><input class=\"sk-toggleable__control sk-hidden--visually\" id=\"sk-estimator-id-15\" type=\"checkbox\" checked><label for=\"sk-estimator-id-15\" class=\"sk-toggleable__label sk-toggleable__label-arrow\">LogisticRegression</label><div class=\"sk-toggleable__content\"><pre>LogisticRegression()</pre></div></div></div></div></div>"
            ]
          },
          "metadata": {},
          "execution_count": 226
        }
      ]
    },
    {
      "cell_type": "code",
      "source": [
        "test['prediction_Logistic'] = model.predict(test[dirnames])"
      ],
      "metadata": {
        "id": "yJEKeYGulDnZ"
      },
      "execution_count": 227,
      "outputs": []
    },
    {
      "cell_type": "code",
      "source": [
        "test['strat_Logistic'] = test['prediction_Logistic'] * test['returns']"
      ],
      "metadata": {
        "id": "wqhBH57plpE0"
      },
      "execution_count": 228,
      "outputs": []
    },
    {
      "cell_type": "code",
      "source": [
        "np.exp(test[['returns', 'strat_Logistic']].sum())"
      ],
      "metadata": {
        "colab": {
          "base_uri": "https://localhost:8080/"
        },
        "id": "-UlZWVBPluWf",
        "outputId": "af6c9da7-3e9e-4b1d-ced7-e96848bb5dad"
      },
      "execution_count": 229,
      "outputs": [
        {
          "output_type": "execute_result",
          "data": {
            "text/plain": [
              "returns           3.202029\n",
              "strat_Logistic    2.269089\n",
              "dtype: float64"
            ]
          },
          "metadata": {},
          "execution_count": 229
        }
      ]
    },
    {
      "cell_type": "code",
      "source": [
        "(test['direction'].diff() != 0).value_counts()"
      ],
      "metadata": {
        "colab": {
          "base_uri": "https://localhost:8080/"
        },
        "id": "urw01M5zl9IV",
        "outputId": "87882fc7-24be-4a33-efd1-b2c8b50cf803"
      },
      "execution_count": 230,
      "outputs": [
        {
          "output_type": "execute_result",
          "data": {
            "text/plain": [
              "direction\n",
              "True     549\n",
              "False    506\n",
              "Name: count, dtype: int64"
            ]
          },
          "metadata": {},
          "execution_count": 230
        }
      ]
    },
    {
      "cell_type": "code",
      "source": [
        "np.exp(test[['returns', 'strat_Logistic']].cumsum()).plot()"
      ],
      "metadata": {
        "colab": {
          "base_uri": "https://localhost:8080/",
          "height": 450
        },
        "id": "Ab6mj-aUl3jE",
        "outputId": "4bdceac9-c10a-4d39-9eaf-7fba63cbd687"
      },
      "execution_count": 231,
      "outputs": [
        {
          "output_type": "execute_result",
          "data": {
            "text/plain": [
              "<Axes: xlabel='Date'>"
            ]
          },
          "metadata": {},
          "execution_count": 231
        },
        {
          "output_type": "display_data",
          "data": {
            "text/plain": [
              "<Figure size 640x480 with 1 Axes>"
            ],
            "image/png": "[encoded data removed]"
          },
          "metadata": {}
        }
      ]
    },
    {
      "cell_type": "code",
      "source": [
        "from sklearn import metrics"
      ],
      "metadata": {
        "id": "cnVxA7Fblz3B"
      },
      "execution_count": 232,
      "outputs": []
    },
    {
      "cell_type": "code",
      "source": [
        "metrics.confusion_matrix(test['direction'], test['prediction_Logistic'])"
      ],
      "metadata": {
        "colab": {
          "base_uri": "https://localhost:8080/"
        },
        "id": "jsPcF_r19iD2",
        "outputId": "9135e84f-1f3d-4e8a-dc9f-908dca4b98d4"
      },
      "execution_count": 233,
      "outputs": [
        {
          "output_type": "execute_result",
          "data": {
            "text/plain": [
              "array([[ 85, 411],\n",
              "       [ 86, 473]])"
            ]
          },
          "metadata": {},
          "execution_count": 233
        }
      ]
    },
    {
      "cell_type": "code",
      "source": [
        "print(metrics.classification_report(test['direction'], test['prediction_Logistic']))"
      ],
      "metadata": {
        "colab": {
          "base_uri": "https://localhost:8080/"
        },
        "id": "ovGRYDFM9v3S",
        "outputId": "2277e355-4c8c-48a4-8c42-5ce602fd4fc5"
      },
      "execution_count": 234,
      "outputs": [
        {
          "output_type": "stream",
          "name": "stdout",
          "text": [
            "              precision    recall  f1-score   support\n",
            "\n",
            "          -1       0.50      0.17      0.25       496\n",
            "           1       0.54      0.85      0.66       559\n",
            "\n",
            "    accuracy                           0.53      1055\n",
            "   macro avg       0.52      0.51      0.46      1055\n",
            "weighted avg       0.52      0.53      0.47      1055\n",
            "\n"
          ]
        }
      ]
    },
    {
      "cell_type": "code",
      "source": [],
      "metadata": {
        "id": "EQ8g3jW1-AYv"
      },
      "execution_count": 234,
      "outputs": []
    }
  ]
}